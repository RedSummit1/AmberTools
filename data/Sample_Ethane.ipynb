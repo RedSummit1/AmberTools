{
 "cells": [
  {
   "cell_type": "code",
   "execution_count": 1,
   "id": "434b7fdf-b79a-439e-b575-324320e354a1",
   "metadata": {},
   "outputs": [
    {
     "data": {
      "application/3dmoljs_load.v0": "<div id=\"3dmolviewer_17605071242114618\"  style=\"position: relative; width: 800px; height: 600px;\">\n        <p id=\"3dmolwarning_17605071242114618\" style=\"background-color:#ffcccc;color:black\">3Dmol.js failed to load for some reason.  Please check your browser console for error messages.<br></p>\n        </div>\n<script>\n\nvar loadScriptAsync = function(uri){\n  return new Promise((resolve, reject) => {\n    //this is to ignore the existence of requirejs amd\n    var savedexports, savedmodule;\n    if (typeof exports !== 'undefined') savedexports = exports;\n    else exports = {}\n    if (typeof module !== 'undefined') savedmodule = module;\n    else module = {}\n\n    var tag = document.createElement('script');\n    tag.src = uri;\n    tag.async = true;\n    tag.onload = () => {\n        exports = savedexports;\n        module = savedmodule;\n        resolve();\n    };\n  var firstScriptTag = document.getElementsByTagName('script')[0];\n  firstScriptTag.parentNode.insertBefore(tag, firstScriptTag);\n});\n};\n\nif(typeof $3Dmolpromise === 'undefined') {\n$3Dmolpromise = null;\n  $3Dmolpromise = loadScriptAsync('https://cdn.jsdelivr.net/npm/3dmol@2.5.3/build/3Dmol-min.js');\n}\n\nvar viewer_17605071242114618 = null;\nvar warn = document.getElementById(\"3dmolwarning_17605071242114618\");\nif(warn) {\n    warn.parentNode.removeChild(warn);\n}\n$3Dmolpromise.then(function() {\nviewer_17605071242114618 = $3Dmol.createViewer(document.getElementById(\"3dmolviewer_17605071242114618\"),{backgroundColor:\"white\"});\nviewer_17605071242114618.zoomTo();\n\tviewer_17605071242114618.addModel(\"ATOM      1  C1  ETH     1      -0.762   0.013  -0.001  1.00  0.00\\nATOM      2  C2  ETH     1       0.762  -0.013   0.001  1.00  0.00\\nATOM      3  H1  ETH     1      -1.132   1.041  -0.001  1.00  0.00\\nATOM      4  H2  ETH     1      -1.156  -0.488   0.895  1.00  0.00\\nATOM      5  H3  ETH     1      -1.156  -0.512  -0.883  1.00  0.00\\nATOM      6  H4  ETH     1       1.156   0.512   0.883  1.00  0.00\\nATOM      7  H5  ETH     1       1.156   0.488  -0.895  1.00  0.00\\nATOM      8  H6  ETH     1       1.132  -1.041   0.001  1.00  0.00\\nTER   \\nEND   \\n\",\"pdb\");\n\tviewer_17605071242114618.setStyle({\"stick\": {\"radius\": 0.2}, \"sphere\": {\"radius\": 0.4}});\n\tviewer_17605071242114618.setBackgroundColor(\"white\");\n\tviewer_17605071242114618.zoomTo();\nviewer_17605071242114618.render();\n});\n</script>",
      "text/html": [
       "<div id=\"3dmolviewer_17605071242114618\"  style=\"position: relative; width: 800px; height: 600px;\">\n",
       "        <p id=\"3dmolwarning_17605071242114618\" style=\"background-color:#ffcccc;color:black\">3Dmol.js failed to load for some reason.  Please check your browser console for error messages.<br></p>\n",
       "        </div>\n",
       "<script>\n",
       "\n",
       "var loadScriptAsync = function(uri){\n",
       "  return new Promise((resolve, reject) => {\n",
       "    //this is to ignore the existence of requirejs amd\n",
       "    var savedexports, savedmodule;\n",
       "    if (typeof exports !== 'undefined') savedexports = exports;\n",
       "    else exports = {}\n",
       "    if (typeof module !== 'undefined') savedmodule = module;\n",
       "    else module = {}\n",
       "\n",
       "    var tag = document.createElement('script');\n",
       "    tag.src = uri;\n",
       "    tag.async = true;\n",
       "    tag.onload = () => {\n",
       "        exports = savedexports;\n",
       "        module = savedmodule;\n",
       "        resolve();\n",
       "    };\n",
       "  var firstScriptTag = document.getElementsByTagName('script')[0];\n",
       "  firstScriptTag.parentNode.insertBefore(tag, firstScriptTag);\n",
       "});\n",
       "};\n",
       "\n",
       "if(typeof $3Dmolpromise === 'undefined') {\n",
       "$3Dmolpromise = null;\n",
       "  $3Dmolpromise = loadScriptAsync('https://cdn.jsdelivr.net/npm/3dmol@2.5.3/build/3Dmol-min.js');\n",
       "}\n",
       "\n",
       "var viewer_17605071242114618 = null;\n",
       "var warn = document.getElementById(\"3dmolwarning_17605071242114618\");\n",
       "if(warn) {\n",
       "    warn.parentNode.removeChild(warn);\n",
       "}\n",
       "$3Dmolpromise.then(function() {\n",
       "viewer_17605071242114618 = $3Dmol.createViewer(document.getElementById(\"3dmolviewer_17605071242114618\"),{backgroundColor:\"white\"});\n",
       "viewer_17605071242114618.zoomTo();\n",
       "\tviewer_17605071242114618.addModel(\"ATOM      1  C1  ETH     1      -0.762   0.013  -0.001  1.00  0.00\\nATOM      2  C2  ETH     1       0.762  -0.013   0.001  1.00  0.00\\nATOM      3  H1  ETH     1      -1.132   1.041  -0.001  1.00  0.00\\nATOM      4  H2  ETH     1      -1.156  -0.488   0.895  1.00  0.00\\nATOM      5  H3  ETH     1      -1.156  -0.512  -0.883  1.00  0.00\\nATOM      6  H4  ETH     1       1.156   0.512   0.883  1.00  0.00\\nATOM      7  H5  ETH     1       1.156   0.488  -0.895  1.00  0.00\\nATOM      8  H6  ETH     1       1.132  -1.041   0.001  1.00  0.00\\nTER   \\nEND   \\n\",\"pdb\");\n",
       "\tviewer_17605071242114618.setStyle({\"stick\": {\"radius\": 0.2}, \"sphere\": {\"radius\": 0.4}});\n",
       "\tviewer_17605071242114618.setBackgroundColor(\"white\");\n",
       "\tviewer_17605071242114618.zoomTo();\n",
       "viewer_17605071242114618.render();\n",
       "});\n",
       "</script>"
      ]
     },
     "metadata": {},
     "output_type": "display_data"
    }
   ],
   "source": [
    "import py3Dmol\n",
    "\n",
    "# Load and visualize ethane\n",
    "view = py3Dmol.view(width=800, height=600)\n",
    "view.addModel(open('ethane_final.pdb').read(), 'pdb')\n",
    "view.setStyle({'stick': {'radius': 0.2}, 'sphere': {'radius': 0.4}})\n",
    "view.setBackgroundColor('white')\n",
    "view.zoomTo()\n",
    "view.show()"
   ]
  }
 ],
 "metadata": {
  "kernelspec": {
   "display_name": "Python 3 (ipykernel)",
   "language": "python",
   "name": "python3"
  },
  "language_info": {
   "codemirror_mode": {
    "name": "ipython",
    "version": 3
   },
   "file_extension": ".py",
   "mimetype": "text/x-python",
   "name": "python",
   "nbconvert_exporter": "python",
   "pygments_lexer": "ipython3",
   "version": "3.12.12"
  }
 },
 "nbformat": 4,
 "nbformat_minor": 5
}
